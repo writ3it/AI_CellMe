{
 "cells": [
  {
   "cell_type": "markdown",
   "metadata": {},
   "source": [
    "# AI Cell Me Competition\n",
    "## I Summary\n",
    "### Dataset\n",
    "\n",
    "## II Analysis\n",
    "### 2.1. Download dataset\n",
    "If you're in Kaggle ![CellMe](https://www.kaggle.com/c/cell-me) competition and have installed kaggle api you can use below code to download dataset."
   ]
  },
  {
   "cell_type": "code",
   "execution_count": 2,
   "metadata": {},
   "outputs": [],
   "source": [
    "import os\n",
    "import zipfile\n",
    "wdir = os.getcwd()\n",
    "\n",
    "if not os.path.isfile(wdir+\"/data/train.csv.zip\"):\n",
    "    os.popen(\"~/.local/bin/kaggle competitions download -p ./data cell-me\").read()\n",
    "    \n",
    "if not os.path.isfile(wdir+\"/data/test.csv\"):\n",
    "    with zipfile.ZipFile(wdir +\"/data/test.csv.zip\",\"r\") as zip_ref:\n",
    "        zip_ref.extractall(wdir+\"/data\")\n",
    "        \n",
    "if not os.path.isfile(wdir+\"/data/train.csv\"):\n",
    "    with zipfile.ZipFile(wdir +\"/data/train.csv.zip\",\"r\") as zip_ref:\n",
    "        zip_ref.extractall(wdir+\"/data\")\n",
    "\n",
    "test_file_path = \"data/test.csv\"\n",
    "train_file_path = \"data/train.csv\""
   ]
  },
  {
   "cell_type": "markdown",
   "metadata": {},
   "source": [
    "### 2.2. Loading libraries"
   ]
  },
  {
   "cell_type": "code",
   "execution_count": 3,
   "metadata": {},
   "outputs": [],
   "source": [
    "import gensim\n",
    "from gensim import corpora\n",
    "import logging\n",
    "import nltk\n",
    "import re\n",
    "import pandas as pd\n",
    "import numpy as np\n",
    "from collections import defaultdict\n",
    "import random\n",
    "from sklearn.ensemble import RandomForestClassifier\n",
    "from sklearn.datasets import make_classification\n",
    "from sklearn.model_selection import train_test_split\n",
    "from sklearn.metrics import mean_squared_error\n",
    "\n",
    "#visualization\n",
    "%matplotlib inline\n",
    "import seaborn as sns\n",
    "import matplotlib.pyplot as plt\n",
    "from collections import Counter"
   ]
  },
  {
   "cell_type": "markdown",
   "metadata": {},
   "source": [
    "### 2.3. Pieces of code"
   ]
  },
  {
   "cell_type": "markdown",
   "metadata": {},
   "source": [
    "#### 2.3.0 Set seed"
   ]
  },
  {
   "cell_type": "code",
   "execution_count": 4,
   "metadata": {},
   "outputs": [],
   "source": [
    "random.seed(23)\n",
    "seed = 23\n",
    "num_of_topics = 5"
   ]
  },
  {
   "cell_type": "markdown",
   "metadata": {},
   "source": [
    "#### 2.3.0. Load data"
   ]
  },
  {
   "cell_type": "code",
   "execution_count": 5,
   "metadata": {},
   "outputs": [],
   "source": [
    "def loader(file_path,sample=False,nrows=1000):\n",
    "    global wdir\n",
    "    if not sample:\n",
    "        return pd.read_csv(wdir+\"/\"+file_path,sep=\",\",header=0)\n",
    "    return pd.read_csv(wdir+\"/\"+file_path,sep=\",\",header=0,nrows=nrows)"
   ]
  },
  {
   "cell_type": "markdown",
   "metadata": {},
   "source": [
    "#### 2.3.1. Tokenizer "
   ]
  },
  {
   "cell_type": "code",
   "execution_count": 6,
   "metadata": {},
   "outputs": [],
   "source": [
    "class Tokenizer():\n",
    "    @staticmethod\n",
    "    def tokenize(text):\n",
    "        pass"
   ]
  },
  {
   "cell_type": "markdown",
   "metadata": {},
   "source": [
    "#### 2.3.2 Useful regexs"
   ]
  },
  {
   "cell_type": "code",
   "execution_count": 7,
   "metadata": {},
   "outputs": [],
   "source": [
    "RE_EMOTICON = re.compile('(:\\)|:-\\)|:\\(|:-\\(|;\\);-\\)|:-O|8-|:P|:D|:\\||:S|:\\$|:@|8o\\||\\+o\\(|\\(H\\)|\\(C\\)|\\(\\?\\))')\n",
    "RE_HTTP = re.compile(\"http(s)?://[/\\.a-z0-9]+\")"
   ]
  },
  {
   "cell_type": "markdown",
   "metadata": {},
   "source": [
    "#### 2.3.3. Word tokenizer"
   ]
  },
  {
   "cell_type": "code",
   "execution_count": 8,
   "metadata": {},
   "outputs": [],
   "source": [
    "class WordTokenizer(Tokenizer):\n",
    "    def tokenize(text):\n",
    "        words = str(text).lower().split()\n",
    "        return words"
   ]
  },
  {
   "cell_type": "markdown",
   "metadata": {},
   "source": [
    "#### 2.3.4. Stopwords"
   ]
  },
  {
   "cell_type": "code",
   "execution_count": 9,
   "metadata": {},
   "outputs": [],
   "source": [
    "stopwords = [\"a\", \"about\", \"after\", \"all\", \"am\", \"an\", \"and\", \"any\", \"are\", \"as\", \"at\", \"be\", \"because\", \"been\",\n",
    "            \"before\", \"being\", \"between\", \"both\", \"by\", \"could\", \"did\", \"do\", \"does\", \"doing\", \"during\", \"each\",\n",
    "            \"for\", \"from\", \"further\", \"had\", \"has\", \"have\", \"having\", \"he\", \"he'd\", \"he'll\", \"he's\", \"her\", \"here\",\n",
    "            \"here's\", \"hers\", \"herself\", \"him\", \"himself\", \"his\", \"how\", \"how's\", \"i\", \"i'd\", \"i'll\", \"i'm\", \"i've\",\n",
    "            \"in\", \"into\", \"is\", \"it\", \"it's\", \"its\", \"itself\", \"let's\", \"me\", \"more\", \"most\", \"my\", \"myself\", \"of\",\n",
    "            \"on\", \"once\", \"only\", \"or\", \"other\", \"ought\", \"our\", \"ours\", \"ourselves\", \"own\", \"shan't\", \"she\", \"she'd\",\n",
    "            \"she'll\", \"she's\", \"should\", \"so\", \"some\", \"such\", \"than\", \"that\", \"that's\", \"the\", \"their\", \"theirs\",\n",
    "            \"them\", \"themselves\", \"then\", \"there\", \"there's\", \"these\", \"they\", \"they'd\", \"they'll\", \"they're\",\n",
    "            \"they've\", \"this\", \"those\", \"through\", \"to\", \"until\", \"up\", \"very\", \"was\", \"wasn't\", \"we\", \"we'd\",\n",
    "            \"we'll\", \"we're\", \"we've\", \"were\", \"weren't\", \"what\", \"what's\", \"when\", \"when's\", \"where\", \"where's\",\n",
    "            \"which\", \"while\", \"who\", \"who's\", \"whom\", \"with\", \"would\", \"you\", \"you'd\", \"you'll\", \"you're\", \"you've\",\n",
    "            \"your\", \"yours\", \"yourself\", \"yourselves\", \"above\", \"again\", \"against\", \"aren't\", \"below\", \"but\", \"can't\",\n",
    "            \"cannot\", \"couldn't\", \"didn't\", \"doesn't\", \"don't\", \"down\", \"few\", \"hadn't\", \"hasn't\", \"haven't\", \"if\",\n",
    "            \"isn't\", \"mustn't\", \"no\", \"nor\",  \"same\", \"too\", \"under\", \"why\",\n",
    "            \"why's\", \"won't\", \"wouldn't\",\",\",\".\",\")\",\"(\",\"...\",\"not\", \"off\", \"out\", \"over\", \"shouldn't\",\"'s'\",'phone','thi']\n",
    "#"
   ]
  },
  {
   "cell_type": "markdown",
   "metadata": {},
   "source": [
    "#### 2.3.5. Review tokenizer"
   ]
  },
  {
   "cell_type": "code",
   "execution_count": 10,
   "metadata": {},
   "outputs": [],
   "source": [
    "class ReviewTokenizer(WordTokenizer):\n",
    "    def tokenize(text,stopwords):\n",
    "        ps = nltk.stem.PorterStemmer()\n",
    "        tokens = super(ReviewTokenizer, ReviewTokenizer).tokenize(text)\n",
    "        i = 0\n",
    "        while i < len(tokens):\n",
    "            token = tokens[i]\n",
    "            matches = RE_EMOTICON.search(token)\n",
    "            if matches:\n",
    "                emoticon = matches.group(0)\n",
    "                newTokens = token.split(emoticon)\n",
    "                tokens[i] = emoticon\n",
    "                tokens.extend(newTokens)\n",
    "            else:\n",
    "                del tokens[i]\n",
    "                tokens[i:i] = nltk.word_tokenize(token)\n",
    "          \n",
    "            i = i + 1\n",
    "            \n",
    "        tokens = [ps.stem(token) for token in tokens]\n",
    "        return [word for word in tokens if word not in stopwords]"
   ]
  },
  {
   "cell_type": "markdown",
   "metadata": {},
   "source": [
    "#### 2.3.5. Histogram"
   ]
  },
  {
   "cell_type": "code",
   "execution_count": 11,
   "metadata": {},
   "outputs": [],
   "source": [
    "#from Ph.D. D.B. tutorial\n",
    "sns.set(style=\"whitegrid\")\n",
    "sns.set_color_codes(\"muted\")\n",
    "\n",
    "def show_histogram(word_counts, title=None):\n",
    "    plot_df = pd.DataFrame.from_dict(word_counts,orient=\"index\").reset_index().rename(columns={0:'Count'})\n",
    "    f, ax = plt.subplots(figsize=(12, 15))\n",
    "    p = sns.barplot(x=\"Count\", y=\"index\", data=plot_df, color=\"b\")\n",
    "    p.set(xlabel=\"Count\", ylabel=\"\", title=title)"
   ]
  },
  {
   "cell_type": "markdown",
   "metadata": {},
   "source": [
    "#### 2.3.6 Words visualisation"
   ]
  },
  {
   "cell_type": "code",
   "execution_count": 12,
   "metadata": {},
   "outputs": [
    {
     "name": "stdout",
     "output_type": "stream",
     "text": [
      "[('work', 380), ('!', 372), ('veri', 372), ('use', 371), (\"n't\", 359), ('good', 332), ('wa', 322), ('ha', 248), ('screen', 228), (\"'s\", 222), ('can', 215), ('like', 203), ('great', 195), ('card', 186), ('sim', 186), ('one', 183), ('will', 170), ('just', 168), ('price', 144), ('onli', 138), ('doe', 136), ('review', 135), ('product', 133), ('get', 132), ('buy', 131), ('batteri', 130), ('realli', 125), ('camera', 123), ('love', 121), ('also', 117), ('back', 115), ('call', 113), ('app', 112), ('need', 107), ('becaus', 105), ('unlock', 104), ('charg', 103), ('receiv', 103), ('look', 98), ('easi', 96), ('well', 96), ('qualiti', 94), ('got', 93), ('excel', 92), ('make', 90), ('want', 89), ('featur', 88), ('thing', 85), ('recommend', 84), ('fast', 84)]\n",
      "[('unbeat', 1), ('300', 1), ('recogniz', 1), ('uncomfort', 1), ('sastifecho', 1), ('congratulect', 1), ('..ok', 1), ('uff', 1), ('friend.plan', 1), ('pen', 1), ('star..', 1), ('vertic', 1), ('retard', 1), ('superus', 1), ('preinstal', 1), ('otg', 1), ('unknown', 1), ('reason.pro', 1), ('a.m', 1), ('temp', 1), ('phone..veri', 1), ('odlican', 1), ('telefon', 1), ('usluga', 1), ('yeah', 1), ('number-respons', 1), ('digi', 1), ('adapter.so', 1), ('review.anyon', 1), ('premium', 1), ('s5touchscreen', 1), ('marvel', 1), ('screen.network', 1), ('digimobil', 1), ('asid', 1), ('wifi.-in', 1), ('wifi.thi', 1), ('s***', 1), ('medium-low', 1), ('toy.plea', 1), ('.do', 1), ('fash', 1), ('excelet', 1), ('buena', 1), ('crush', 1), ('eventu', 1), ('price..', 1), ('merg', 1), ('onto', 1), ('pritector', 1)]\n"
     ]
    },
    {
     "data": {
      "image/png": "[encoded data removed]",
      "text/plain": [
       "<matplotlib.figure.Figure at 0x7fc6a0bb6ac8>"
      ]
     },
     "metadata": {},
     "output_type": "display_data"
    },
    {
     "data": {
      "image/png": "[encoded data removed]",
      "text/plain": [
       "<matplotlib.figure.Figure at 0x7fc6a05bf390>"
      ]
     },
     "metadata": {},
     "output_type": "display_data"
    }
   ],
   "source": [
    "words = Counter()\n",
    "data = loader(train_file_path,sample=True)\n",
    "for i in data.index:\n",
    "     tokens = ReviewTokenizer.tokenize(data['Reviews'].iat[i],stopwords)\n",
    "     words.update(tokens)\n",
    "    \n",
    "mc = words.most_common(50)\n",
    "df = pd.DataFrame(mc, columns=['word', 'frequency'])\n",
    "df.plot(kind='bar', x='word')\n",
    "print(mc)\n",
    "lc = words.most_common()[-50:]\n",
    "df = pd.DataFrame(lc, columns=['word', 'frequency'])\n",
    "df.plot(kind='bar', x='word')\n",
    "print(lc)"
   ]
  },
  {
   "cell_type": "markdown",
   "metadata": {},
   "source": [
    "#### 2.3.7 Build dictionary"
   ]
  },
  {
   "cell_type": "code",
   "execution_count": 13,
   "metadata": {},
   "outputs": [],
   "source": [
    "def create_bow(documents, features,stopwords,text_column='Reviews', label_columns='Rating'):\n",
    "    row = []\n",
    "    col = []\n",
    "    data = []\n",
    "\n",
    "    labels = []\n",
    "    for i in documents.index:\n",
    "        tokens = ReviewTokenizer.tokenize(documents[text_column].iat[i],stopwords)\n",
    "        if label_columns is not False:\n",
    "            labels.append(documents[label_columns].iat[i])\n",
    "        for token in set(tokens):\n",
    "            if token not in features:\n",
    "                continue\n",
    "            row.append(i)\n",
    "            col.append(features[token])\n",
    "            data.append(1)\n",
    "    return csr_matrix((data, (row, col)), shape=(len(documents), len(features))), labels"
   ]
  },
  {
   "cell_type": "markdown",
   "metadata": {},
   "source": [
    "### 2.4 Analysis"
   ]
  },
  {
   "cell_type": "markdown",
   "metadata": {},
   "source": [
    "#### 2.4.0 Word frequency"
   ]
  },
  {
   "cell_type": "code",
   "execution_count": 19,
   "metadata": {},
   "outputs": [],
   "source": [
    "from scipy.sparse import csr_matrix\n",
    "from sklearn.ensemble import RandomForestClassifier\n",
    "from sklearn.metrics import f1_score, precision_score, recall_score\n",
    "from sklearn.model_selection import train_test_split\n",
    "\n",
    "min_word_count = 10\n",
    "def experiment(min_word_count,sample=True,predict=False):\n",
    "    if not predict:\n",
    "        data = loader(train_file_path,sample=sample)\n",
    "        row_count = data.shape[0]\n",
    "        split_point = int(row_count*1/5)\n",
    "        test_data, train_data = data[:split_point], data[split_point:]\n",
    "        test_data = test_data.reset_index(drop=True)\n",
    "        train_data = train_data.reset_index(drop=True)\n",
    "    else:\n",
    "        train_data = loader(train_file_path, sample=sample)\n",
    "        test_data = loader(test_file_path, sample=sample)\n",
    "        \n",
    "\n",
    "    words = Counter()\n",
    "    for i in train_data.index:\n",
    "         df = train_data['Reviews'].iat[i]\n",
    "         tokens = ReviewTokenizer.tokenize(df,stopwords)\n",
    "         words.update(tokens)\n",
    "\n",
    "\n",
    "    common_words = list([k for k, v in words.most_common() if v > min_word_count])\n",
    "\n",
    "    feature_dict = {}\n",
    "    for word in common_words:\n",
    "        feature_dict[word] = len(feature_dict)\n",
    "\n",
    "    print(\"Training classifier...\")\n",
    "    \n",
    "    X_train, y_train = create_bow(train_data, feature_dict,stopwords)\n",
    "    list_of_labels = list(set(y_train))\n",
    "    \n",
    "    classifier = RandomForestClassifier(n_estimators=30, n_jobs=4, random_state=23)\n",
    "    classifier.fit(X_train, y_train)\n",
    "\n",
    "    print(\"Testing...\")\n",
    "    if not predict:\n",
    "        X_test, y_test = create_bow(test_data, feature_dict,stopwords)\n",
    "    else:\n",
    "        X_test, y_test = create_bow(test_data, feature_dict,stopwords,label_columns=False)\n",
    "    predicted = classifier.predict(X_test)\n",
    "    rmsa = False\n",
    "    if not predict:\n",
    "        print(\"=================== Results ===================\")\n",
    "        print(\"            Positive    Neutral     Negative   \")\n",
    "        print(\"F1       \", f1_score(y_test, predicted, average=None, pos_label=None, labels=list_of_labels))\n",
    "        print(\"Precision\", precision_score(y_test, predicted, average=None, pos_label=None, labels=list_of_labels))\n",
    "        print(\"Recall   \", recall_score(y_test, predicted, average=None, pos_label=None, labels=list_of_labels))\n",
    "        errors = abs(predicted - y_test)\n",
    "        print('Mean Absolute Error:', round(np.mean(errors), 2), 'degrees.')\n",
    "        rmsa = mean_squared_error(y_test, predicted)\n",
    "        print(\"RMSA   \", rmsa)\n",
    "    else:\n",
    "        output = [];\n",
    "        for i in test_data.index:\n",
    "            _id = test_data['Id'].iat[i]\n",
    "            pre = predicted[i]\n",
    "            output.append((_id,pre))\n",
    "        return output\n",
    "    return rmsa,predicted\n"
   ]
  },
  {
   "cell_type": "code",
   "execution_count": 110,
   "metadata": {
    "scrolled": true
   },
   "outputs": [
    {
     "data": {
      "text/plain": [
       "<matplotlib.axes._subplots.AxesSubplot at 0x7f99479b1e48>"
      ]
     },
     "execution_count": 110,
     "metadata": {},
     "output_type": "execute_result"
    },
    {
     "data": {
      "image/png": "[encoded data removed]",
      "text/plain": [
       "<matplotlib.figure.Figure at 0x7f99479b1e80>"
      ]
     },
     "metadata": {},
     "output_type": "display_data"
    }
   ],
   "source": [
    "\n",
    "RMSA = []\n",
    "for min_words in range(1,20):\n",
    "    rmsa = experiment(min_words)\n",
    "    RMSA.append((min_words,rmsa))\n",
    "\n",
    "df = pd.DataFrame(RMSA, columns=['min_words', 'RMSA'])\n",
    "df.plot(kind='bar', x='min_words')\n"
   ]
  },
  {
   "cell_type": "code",
   "execution_count": 24,
   "metadata": {},
   "outputs": [
    {
     "name": "stdout",
     "output_type": "stream",
     "text": [
      "Training classifier...\n",
      "Testing...\n",
      "=================== Results ===================\n",
      "            Positive    Neutral     Negative   \n",
      "F1        [0.43333333 0.16666667 0.19047619 0.10810811 0.76744186]\n",
      "Precision [0.35135135 0.5        0.5        0.2        0.68275862]\n",
      "Recall    [0.56521739 0.1        0.11764706 0.07407407 0.87610619]\n",
      "Mean Absolute Error: 0.8 degrees.\n",
      "RMSA    2.115\n"
     ]
    },
    {
     "data": {
      "text/plain": [
       "(2.115,\n",
       " array([5, 5, 4, 5, 5, 1, 2, 1, 5, 5, 5, 5, 5, 2, 1, 1, 5, 5, 5, 4, 2, 5,\n",
       "        1, 5, 5, 5, 5, 5, 1, 5, 5, 5, 1, 5, 5, 5, 5, 1, 5, 5, 5, 5, 5, 5,\n",
       "        5, 5, 4, 5, 5, 5, 5, 5, 5, 5, 1, 5, 5, 5, 5, 5, 5, 5, 5, 5, 5, 5,\n",
       "        5, 5, 4, 5, 1, 5, 5, 5, 5, 5, 5, 5, 1, 5, 5, 4, 5, 1, 5, 3, 5, 5,\n",
       "        1, 5, 4, 1, 5, 5, 5, 4, 5, 5, 5, 5, 5, 1, 5, 5, 5, 5, 5, 4, 5, 5,\n",
       "        1, 5, 5, 5, 1, 3, 5, 5, 5, 5, 5, 5, 5, 5, 1, 5, 5, 1, 5, 5, 5, 1,\n",
       "        5, 5, 5, 5, 5, 5, 5, 5, 5, 5, 1, 5, 5, 1, 5, 5, 1, 1, 5, 5, 5, 5,\n",
       "        3, 5, 5, 5, 1, 5, 5, 4, 1, 5, 1, 5, 5, 5, 1, 5, 5, 5, 5, 5, 1, 5,\n",
       "        1, 1, 5, 1, 5, 1, 1, 5, 5, 5, 5, 5, 3, 5, 5, 5, 2, 1, 4, 5, 1, 5,\n",
       "        5, 1]))"
      ]
     },
     "execution_count": 24,
     "metadata": {},
     "output_type": "execute_result"
    }
   ],
   "source": [
    "\n",
    "experiment(10,True,False)"
   ]
  },
  {
   "cell_type": "code",
   "execution_count": 23,
   "metadata": {},
   "outputs": [
    {
     "name": "stdout",
     "output_type": "stream",
     "text": [
      "Training classifier...\n",
      "Testing...\n"
     ]
    }
   ],
   "source": [
    "import csv\n",
    "data = experiment(10,True,False)\n",
    "with open('submission.csv','w') as out:\n",
    "    csv_out=csv.writer(out)\n",
    "    csv_out.writerow(['Id','Rating'])\n",
    "    for row in data:\n",
    "        csv_out.writerow(row)"
   ]
  }
 ],
 "metadata": {
  "kernelspec": {
   "display_name": "Python 3",
   "language": "python",
   "name": "python3"
  },
  "language_info": {
   "codemirror_mode": {
    "name": "ipython",
    "version": 3
   },
   "file_extension": ".py",
   "mimetype": "text/x-python",
   "name": "python",
   "nbconvert_exporter": "python",
   "pygments_lexer": "ipython3",
   "version": "3.6.6"
  }
 },
 "nbformat": 4,
 "nbformat_minor": 2
}
