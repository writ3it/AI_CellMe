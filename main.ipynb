{
 "cells": [
  {
   "cell_type": "markdown",
   "metadata": {},
   "source": [
    "# AI Cell Me Competition\n",
    "## I Summary\n",
    "### Dataset\n",
    "\n",
    "## II Analysis\n",
    "### 2.1. Download dataset\n",
    "If you're in Kaggle ![CellMe](https://www.kaggle.com/c/cell-me) competition and have installed kaggle api you can use below code to download dataset."
   ]
  },
  {
   "cell_type": "code",
   "execution_count": 2,
   "metadata": {},
   "outputs": [],
   "source": [
    "import os\n",
    "import zipfile\n",
    "wdir = os.getcwd()\n",
    "\n",
    "if not os.path.isfile(wdir+\"/data/train.csv.zip\"):\n",
    "    os.popen(\"~/.local/bin/kaggle competitions download -p ./data cell-me\").read()\n",
    "    \n",
    "if not os.path.isfile(wdir+\"/data/test.csv\"):\n",
    "    with zipfile.ZipFile(wdir +\"/data/test.csv.zip\",\"r\") as zip_ref:\n",
    "        zip_ref.extractall(wdir+\"/data\")\n",
    "        \n",
    "if not os.path.isfile(wdir+\"/data/train.csv\"):\n",
    "    with zipfile.ZipFile(wdir +\"/data/train.csv.zip\",\"r\") as zip_ref:\n",
    "        zip_ref.extractall(wdir+\"/data\")\n",
    "\n",
    "test_file_path = \"data/test.csv\"\n",
    "train_file_path = \"data/train.csv\""
   ]
  },
  {
   "cell_type": "markdown",
   "metadata": {},
   "source": [
    "### 2.2. Loading libraries"
   ]
  },
  {
   "cell_type": "code",
   "execution_count": 19,
   "metadata": {},
   "outputs": [],
   "source": [
    "import logging\n",
    "import nltk\n",
    "import re\n",
    "import pandas as pd\n",
    "import numpy as np\n",
    "from collections import defaultdict\n",
    "import random\n",
    "from sklearn.datasets import make_classification\n",
    "from scipy.sparse import csr_matrix\n",
    "from sklearn.ensemble import RandomForestClassifier\n",
    "from sklearn.metrics import f1_score, precision_score, recall_score, mean_squared_error\n",
    "from sklearn.model_selection import train_test_split\n",
    "import csv\n",
    "\n",
    "#visualization\n",
    "%matplotlib inline\n",
    "import seaborn as sns\n",
    "import matplotlib.pyplot as plt\n",
    "from collections import Counter"
   ]
  },
  {
   "cell_type": "markdown",
   "metadata": {},
   "source": [
    "### 2.3. Pieces of code"
   ]
  },
  {
   "cell_type": "markdown",
   "metadata": {},
   "source": [
    "#### 2.3.0. Set seed"
   ]
  },
  {
   "cell_type": "code",
   "execution_count": 4,
   "metadata": {},
   "outputs": [],
   "source": [
    "seed = 23\n",
    "random.seed(seed)"
   ]
  },
  {
   "cell_type": "markdown",
   "metadata": {},
   "source": [
    "#### 2.3.1. Load data"
   ]
  },
  {
   "cell_type": "code",
   "execution_count": 5,
   "metadata": {},
   "outputs": [],
   "source": [
    "def loader(file_path,sample=False,nrows=1000):\n",
    "    global wdir\n",
    "    if not sample:\n",
    "        return pd.read_csv(wdir+\"/\"+file_path,sep=\",\",header=0)\n",
    "    return pd.read_csv(wdir+\"/\"+file_path,sep=\",\",header=0,nrows=nrows)"
   ]
  },
  {
   "cell_type": "markdown",
   "metadata": {},
   "source": [
    "#### 2.3.1. Tokenizer "
   ]
  },
  {
   "cell_type": "code",
   "execution_count": 6,
   "metadata": {},
   "outputs": [],
   "source": [
    "class Tokenizer():\n",
    "    @staticmethod\n",
    "    def tokenize(text):\n",
    "        pass"
   ]
  },
  {
   "cell_type": "markdown",
   "metadata": {},
   "source": [
    "#### 2.3.2 Useful regexs"
   ]
  },
  {
   "cell_type": "code",
   "execution_count": 7,
   "metadata": {},
   "outputs": [],
   "source": [
    "RE_EMOTICON = re.compile('(:\\)|:-\\)|:\\(|:-\\(|;\\);-\\)|:-O|8-|:P|:D|:\\||:S|:\\$|:@|8o\\||\\+o\\(|\\(H\\)|\\(C\\)|\\(\\?\\))')\n",
    "RE_HTTP = re.compile(\"http(s)?://[/\\.a-z0-9]+\")"
   ]
  },
  {
   "cell_type": "markdown",
   "metadata": {},
   "source": [
    "#### 2.3.3. Word tokenizer"
   ]
  },
  {
   "cell_type": "code",
   "execution_count": 8,
   "metadata": {},
   "outputs": [],
   "source": [
    "class WordTokenizer(Tokenizer):\n",
    "    def tokenize(text):\n",
    "        words = str(text).lower().split()\n",
    "        return words"
   ]
  },
  {
   "cell_type": "markdown",
   "metadata": {},
   "source": [
    "#### 2.3.4. Stopwords"
   ]
  },
  {
   "cell_type": "code",
   "execution_count": 9,
   "metadata": {},
   "outputs": [],
   "source": [
    "stopwords = [\"a\", \"about\", \"after\", \"all\", \"am\", \"an\", \"and\", \"any\", \"are\", \"as\", \"at\", \"be\", \"because\", \"been\",\n",
    "            \"before\", \"being\", \"between\", \"both\", \"by\", \"could\", \"did\", \"do\", \"does\", \"doing\", \"during\", \"each\",\n",
    "            \"for\", \"from\", \"further\", \"had\", \"has\", \"have\", \"having\", \"he\", \"he'd\", \"he'll\", \"he's\", \"her\", \"here\",\n",
    "            \"here's\", \"hers\", \"herself\", \"him\", \"himself\", \"his\", \"how\", \"how's\", \"i\", \"i'd\", \"i'll\", \"i'm\", \"i've\",\n",
    "            \"in\", \"into\", \"is\", \"it\", \"it's\", \"its\", \"itself\", \"let's\", \"me\", \"more\", \"most\", \"my\", \"myself\", \"of\",\n",
    "            \"on\", \"once\", \"only\", \"or\", \"other\", \"ought\", \"our\", \"ours\", \"ourselves\", \"own\", \"shan't\", \"she\", \"she'd\",\n",
    "            \"she'll\", \"she's\", \"should\", \"so\", \"some\", \"such\", \"than\", \"that\", \"that's\", \"the\", \"their\", \"theirs\",\n",
    "            \"them\", \"themselves\", \"then\", \"there\", \"there's\", \"these\", \"they\", \"they'd\", \"they'll\", \"they're\",\n",
    "            \"they've\", \"this\", \"those\", \"through\", \"to\", \"until\", \"up\", \"very\", \"was\", \"wasn't\", \"we\", \"we'd\",\n",
    "            \"we'll\", \"we're\", \"we've\", \"were\", \"weren't\", \"what\", \"what's\", \"when\", \"when's\", \"where\", \"where's\",\n",
    "            \"which\", \"while\", \"who\", \"who's\", \"whom\", \"with\", \"would\", \"you\", \"you'd\", \"you'll\", \"you're\", \"you've\",\n",
    "            \"your\", \"yours\", \"yourself\", \"yourselves\", \"above\", \"again\", \"against\", \"aren't\", \"below\", \"but\", \"can't\",\n",
    "            \"cannot\", \"couldn't\", \"didn't\", \"doesn't\", \"don't\", \"down\", \"few\", \"hadn't\", \"hasn't\", \"haven't\", \"if\",\n",
    "            \"isn't\", \"mustn't\", \"no\", \"nor\",  \"same\", \"too\", \"under\", \"why\",\n",
    "            \"why's\", \"won't\", \"wouldn't\",\",\",\".\",\")\",\"(\",\"...\",\"not\", \"off\", \"out\", \"over\", \"shouldn't\",\"'s'\",'phone','thi']"
   ]
  },
  {
   "cell_type": "markdown",
   "metadata": {},
   "source": [
    "#### 2.3.5. Review tokenizer"
   ]
  },
  {
   "cell_type": "code",
   "execution_count": 10,
   "metadata": {},
   "outputs": [],
   "source": [
    "class ReviewTokenizer(WordTokenizer):\n",
    "    def tokenize(text,stopwords):\n",
    "        ps = nltk.stem.PorterStemmer()\n",
    "        tokens = super(ReviewTokenizer, ReviewTokenizer).tokenize(text)\n",
    "        \n",
    "        i = 0\n",
    "        while i < len(tokens):\n",
    "            token = tokens[i]\n",
    "            matches = RE_EMOTICON.search(token)\n",
    "            if matches:\n",
    "                emoticon = matches.group(0)\n",
    "                newTokens = token.split(emoticon)\n",
    "                tokens[i] = emoticon\n",
    "                tokens.extend(newTokens)\n",
    "            else:\n",
    "                del tokens[i]\n",
    "                tokens[i:i] = nltk.word_tokenize(token)\n",
    "            i = i + 1\n",
    "            \n",
    "        tokens = [ps.stem(token) for token in tokens]\n",
    "        return [word for word in tokens if word not in stopwords]"
   ]
  },
  {
   "cell_type": "markdown",
   "metadata": {},
   "source": [
    "#### 2.3.6 Words visualisation"
   ]
  },
  {
   "cell_type": "code",
   "execution_count": 13,
   "metadata": {},
   "outputs": [
    {
     "data": {
      "text/plain": [
       "<matplotlib.axes._subplots.AxesSubplot at 0x7f5d9ec31048>"
      ]
     },
     "execution_count": 13,
     "metadata": {},
     "output_type": "execute_result"
    },
    {
     "data": {
      "image/png": "[encoded data removed]",
      "text/plain": [
       "<matplotlib.figure.Figure at 0x7f5d9ecd1470>"
      ]
     },
     "metadata": {
      "needs_background": "light"
     },
     "output_type": "display_data"
    },
    {
     "data": {
      "image/png": "[encoded data removed]",
      "text/plain": [
       "<matplotlib.figure.Figure at 0x7f5d9ec37128>"
      ]
     },
     "metadata": {
      "needs_background": "light"
     },
     "output_type": "display_data"
    }
   ],
   "source": [
    "words = Counter()\n",
    "data = loader(train_file_path,sample=True)\n",
    "for i in data.index:\n",
    "     tokens = ReviewTokenizer.tokenize(data['Reviews'].iat[i],stopwords)\n",
    "     words.update(tokens)\n",
    "    \n",
    "mc = words.most_common(50)\n",
    "df = pd.DataFrame(mc, columns=['word', 'frequency'])\n",
    "df.plot(kind='bar', x='word',title=\"Most common words\",figsize=(9,9))\n",
    "\n",
    "lc = words.most_common()[-50:]\n",
    "df = pd.DataFrame(lc, columns=['word', 'frequency'])\n",
    "df.plot(kind='bar', x='word',title=\"Most rare words\",figsize=(9,9))\n"
   ]
  },
  {
   "cell_type": "markdown",
   "metadata": {},
   "source": [
    "#### 2.3.7 Build dictionary"
   ]
  },
  {
   "cell_type": "code",
   "execution_count": 14,
   "metadata": {},
   "outputs": [],
   "source": [
    "def create_bow(documents, features,stopwords,text_column='Reviews', label_columns='Rating'):\n",
    "    row = []\n",
    "    col = []\n",
    "    data = []\n",
    "    labels = []\n",
    "    \n",
    "    for i in documents.index:\n",
    "        tokens = ReviewTokenizer.tokenize(documents[text_column].iat[i],stopwords)\n",
    "        if label_columns is not False:\n",
    "            labels.append(documents[label_columns].iat[i])\n",
    "        for token in set(tokens):\n",
    "            if token not in features:\n",
    "                continue\n",
    "            row.append(i)\n",
    "            col.append(features[token])\n",
    "            data.append(1)\n",
    "    return csr_matrix((data, (row, col)), shape=(len(documents), len(features))), labels"
   ]
  },
  {
   "cell_type": "markdown",
   "metadata": {},
   "source": [
    "#### 2.3.8 Classification"
   ]
  },
  {
   "cell_type": "code",
   "execution_count": 18,
   "metadata": {},
   "outputs": [],
   "source": [
    "min_word_count = 10\n",
    "def experiment(min_word_count,sample=True,predict=False):\n",
    "    global seed\n",
    "    if not predict:\n",
    "        data = loader(train_file_path,sample=sample)\n",
    "        row_count = data.shape[0]\n",
    "        split_point = int(row_count*1/5)\n",
    "        test_data, train_data = data[:split_point], data[split_point:]\n",
    "        test_data = test_data.reset_index(drop=True)\n",
    "        train_data = train_data.reset_index(drop=True)\n",
    "    else:\n",
    "        train_data = loader(train_file_path, sample=sample)\n",
    "        test_data = loader(test_file_path, sample=sample)\n",
    "        \n",
    "\n",
    "    words = Counter()\n",
    "    for i in train_data.index:\n",
    "         df = train_data['Reviews'].iat[i]\n",
    "         tokens = ReviewTokenizer.tokenize(df,stopwords)\n",
    "         words.update(tokens)\n",
    "\n",
    "\n",
    "    common_words = list([k for k, v in words.most_common() if v > min_word_count])\n",
    "\n",
    "    feature_dict = {}\n",
    "    for word in common_words:\n",
    "        feature_dict[word] = len(feature_dict)\n",
    "\n",
    "    print(\"Training classifier...\")\n",
    "    \n",
    "    X_train, y_train = create_bow(train_data, feature_dict,stopwords)\n",
    "    list_of_labels = list(set(y_train))\n",
    "    \n",
    "    classifier = RandomForestClassifier(n_estimators=30, n_jobs=4, random_state=seed)\n",
    "    classifier.fit(X_train, y_train)\n",
    "\n",
    "    print(\"Testing...\")\n",
    "    if not predict:\n",
    "        X_test, y_test = create_bow(test_data, feature_dict,stopwords)\n",
    "    else:\n",
    "        X_test, y_test = create_bow(test_data, feature_dict,stopwords,label_columns=False)\n",
    "    predicted = classifier.predict(X_test)\n",
    "    rmsa = False\n",
    "    if not predict:\n",
    "        print(\"=================== Results ===================\")\n",
    "        print(\"            Positive    Neutral     Negative   \")\n",
    "        print(\"F1       \", f1_score(y_test, predicted, average=None, pos_label=None, labels=list_of_labels))\n",
    "        print(\"Precision\", precision_score(y_test, predicted, average=None, pos_label=None, labels=list_of_labels))\n",
    "        print(\"Recall   \", recall_score(y_test, predicted, average=None, pos_label=None, labels=list_of_labels))\n",
    "        errors = abs(predicted - y_test)\n",
    "        print('Mean Absolute Error:', round(np.mean(errors), 2), 'degrees.')\n",
    "        rmsa = mean_squared_error(y_test, predicted)\n",
    "        print(\"RMSA   \", rmsa)\n",
    "    else:\n",
    "        output = [];\n",
    "        for i in test_data.index:\n",
    "            _id = test_data['Id'].iat[i]\n",
    "            pre = predicted[i]\n",
    "            output.append((_id,pre))\n",
    "        return output\n",
    "    return rmsa,predicted"
   ]
  },
  {
   "cell_type": "markdown",
   "metadata": {},
   "source": [
    "##### 2.3.9 Explore rare words threshold"
   ]
  },
  {
   "cell_type": "code",
   "execution_count": 21,
   "metadata": {
    "scrolled": true
   },
   "outputs": [
    {
     "name": "stdout",
     "output_type": "stream",
     "text": [
      "Training classifier...\n",
      "Testing...\n",
      "=================== Results ===================\n",
      "            Positive    Neutral     Negative   \n",
      "F1        [0.40677966 0.18181818 0.17391304 0.23255814 0.7826087 ]\n",
      "Precision [0.33333333 1.         0.33333333 0.3125     0.70714286]\n",
      "Recall    [0.52173913 0.1        0.11764706 0.18518519 0.87610619]\n",
      "Mean Absolute Error: 0.8 degrees.\n",
      "RMSA    2.095\n",
      "Training classifier...\n",
      "Testing...\n",
      "=================== Results ===================\n",
      "            Positive    Neutral     Negative   \n",
      "F1        [0.4        0.09090909 0.1        0.16216216 0.7734375 ]\n",
      "Precision [0.30952381 0.5        0.33333333 0.3        0.69230769]\n",
      "Recall    [0.56521739 0.05       0.05882353 0.11111111 0.87610619]\n",
      "Mean Absolute Error: 0.86 degrees.\n",
      "RMSA    2.345\n",
      "Training classifier...\n",
      "Testing...\n",
      "=================== Results ===================\n",
      "            Positive    Neutral     Negative   \n",
      "F1        [0.43076923 0.08333333 0.0952381  0.25       0.776     ]\n",
      "Precision [0.33333333 0.25       0.25       0.38461538 0.7080292 ]\n",
      "Recall    [0.60869565 0.05       0.05882353 0.18518519 0.85840708]\n",
      "Mean Absolute Error: 0.83 degrees.\n",
      "RMSA    2.22\n",
      "Training classifier...\n",
      "Testing...\n",
      "=================== Results ===================\n",
      "            Positive    Neutral     Negative   \n",
      "F1        [0.43076923 0.09090909 0.19047619 0.15789474 0.79527559]\n",
      "Precision [0.33333333 0.5        0.5        0.27272727 0.71631206]\n",
      "Recall    [0.60869565 0.05       0.11764706 0.11111111 0.89380531]\n",
      "Mean Absolute Error: 0.77 degrees.\n",
      "RMSA    1.97\n",
      "Training classifier...\n",
      "Testing...\n",
      "=================== Results ===================\n",
      "            Positive    Neutral     Negative   \n",
      "F1        [0.4137931  0.17391304 0.0952381  0.06060606 0.79245283]\n",
      "Precision [0.34285714 0.66666667 0.25       0.16666667 0.69078947]\n",
      "Recall    [0.52173913 0.1        0.05882353 0.03703704 0.92920354]\n",
      "Mean Absolute Error: 0.78 degrees.\n",
      "RMSA    2.05\n",
      "Training classifier...\n",
      "Testing...\n",
      "=================== Results ===================\n",
      "            Positive    Neutral     Negative   \n",
      "F1        [0.43333333 0.24       0.09090909 0.05263158 0.76078431]\n",
      "Precision [0.35135135 0.6        0.2        0.09090909 0.68309859]\n",
      "Recall    [0.56521739 0.15       0.05882353 0.03703704 0.85840708]\n",
      "Mean Absolute Error: 0.84 degrees.\n",
      "RMSA    2.185\n",
      "Training classifier...\n",
      "Testing...\n",
      "=================== Results ===================\n",
      "            Positive    Neutral     Negative   \n",
      "F1        [0.4057971  0.08695652 0.26086957 0.0625     0.7826087 ]\n",
      "Precision [0.30434783 0.33333333 0.5        0.2        0.70714286]\n",
      "Recall    [0.60869565 0.05       0.17647059 0.03703704 0.87610619]\n",
      "Mean Absolute Error: 0.9 degrees.\n",
      "RMSA    2.495\n",
      "Training classifier...\n",
      "Testing...\n",
      "=================== Results ===================\n",
      "            Positive    Neutral     Negative   \n",
      "F1        [0.40677966 0.17391304 0.24       0.18181818 0.77108434]\n",
      "Precision [0.33333333 0.66666667 0.375      0.23529412 0.70588235]\n",
      "Recall    [0.52173913 0.1        0.17647059 0.14814815 0.84955752]\n",
      "Mean Absolute Error: 0.8 degrees.\n",
      "RMSA    2.055\n",
      "Training classifier...\n",
      "Testing...\n",
      "=================== Results ===================\n",
      "            Positive    Neutral     Negative   \n",
      "F1        [0.39344262 0.17391304 0.26086957 0.14285714 0.77290837]\n",
      "Precision [0.31578947 0.66666667 0.5        0.2        0.70289855]\n",
      "Recall    [0.52173913 0.1        0.17647059 0.11111111 0.85840708]\n",
      "Mean Absolute Error: 0.82 degrees.\n",
      "RMSA    2.135\n",
      "Training classifier...\n",
      "Testing...\n",
      "=================== Results ===================\n",
      "            Positive    Neutral     Negative   \n",
      "F1        [0.43333333 0.16666667 0.19047619 0.10810811 0.76744186]\n",
      "Precision [0.35135135 0.5        0.5        0.2        0.68275862]\n",
      "Recall    [0.56521739 0.1        0.11764706 0.07407407 0.87610619]\n",
      "Mean Absolute Error: 0.8 degrees.\n",
      "RMSA    2.115\n",
      "Training classifier...\n",
      "Testing...\n",
      "=================== Results ===================\n",
      "            Positive    Neutral     Negative   \n",
      "F1        [0.4516129  0.24       0.18181818 0.05128205 0.74603175]\n",
      "Precision [0.35897436 0.6        0.4        0.08333333 0.67625899]\n",
      "Recall    [0.60869565 0.15       0.11764706 0.03703704 0.83185841]\n",
      "Mean Absolute Error: 0.84 degrees.\n",
      "RMSA    2.23\n",
      "Training classifier...\n",
      "Testing...\n",
      "=================== Results ===================\n",
      "            Positive    Neutral     Negative   \n",
      "F1        [0.41269841 0.16666667 0.2        0.13333333 0.75      ]\n",
      "Precision [0.325      0.5        0.66666667 0.16666667 0.68888889]\n",
      "Recall    [0.56521739 0.1        0.11764706 0.11111111 0.82300885]\n",
      "Mean Absolute Error: 0.9 degrees.\n",
      "RMSA    2.435\n",
      "Training classifier...\n",
      "Testing...\n",
      "=================== Results ===================\n",
      "            Positive    Neutral     Negative   \n",
      "F1        [0.39344262 0.09090909 0.26086957 0.13953488 0.77290837]\n",
      "Precision [0.31578947 0.5        0.5        0.1875     0.70289855]\n",
      "Recall    [0.52173913 0.05       0.17647059 0.11111111 0.85840708]\n",
      "Mean Absolute Error: 0.82 degrees.\n",
      "RMSA    2.175\n",
      "Training classifier...\n",
      "Testing...\n",
      "=================== Results ===================\n",
      "            Positive    Neutral     Negative   \n",
      "F1        [0.40625    0.18181818 0.2        0.08695652 0.75      ]\n",
      "Precision [0.31707317 1.         0.66666667 0.10526316 0.68888889]\n",
      "Recall    [0.56521739 0.1        0.11764706 0.07407407 0.82300885]\n",
      "Mean Absolute Error: 0.87 degrees.\n",
      "RMSA    2.3\n",
      "Training classifier...\n",
      "Testing...\n",
      "=================== Results ===================\n",
      "            Positive    Neutral     Negative   \n",
      "F1        [0.39393939 0.23076923 0.19047619 0.1025641  0.74193548]\n",
      "Precision [0.30232558 0.5        0.5        0.16666667 0.68148148]\n",
      "Recall    [0.56521739 0.15       0.11764706 0.07407407 0.81415929]\n",
      "Mean Absolute Error: 0.9 degrees.\n",
      "RMSA    2.485\n",
      "Training classifier...\n",
      "Testing...\n",
      "=================== Results ===================\n",
      "            Positive    Neutral     Negative   \n",
      "F1        [0.42622951 0.08333333 0.17391304 0.18604651 0.76305221]\n",
      "Precision [0.34210526 0.25       0.33333333 0.25       0.69852941]\n",
      "Recall    [0.56521739 0.05       0.11764706 0.14814815 0.84070796]\n",
      "Mean Absolute Error: 0.84 degrees.\n",
      "RMSA    2.165\n",
      "Training classifier...\n",
      "Testing...\n",
      "=================== Results ===================\n",
      "            Positive    Neutral     Negative   \n",
      "F1        [0.39393939 0.0952381  0.27272727 0.04651163 0.74193548]\n",
      "Precision [0.30232558 1.         0.6        0.0625     0.68148148]\n",
      "Recall    [0.56521739 0.05       0.17647059 0.03703704 0.81415929]\n",
      "Mean Absolute Error: 0.87 degrees.\n",
      "RMSA    2.3\n",
      "Training classifier...\n",
      "Testing...\n",
      "=================== Results ===================\n",
      "            Positive    Neutral     Negative   \n",
      "F1        [0.43076923 0.26086957 0.0952381  0.0952381  0.75502008]\n",
      "Precision [0.33333333 1.         0.25       0.13333333 0.69117647]\n",
      "Recall    [0.60869565 0.15       0.05882353 0.07407407 0.83185841]\n",
      "Mean Absolute Error: 0.86 degrees.\n",
      "RMSA    2.255\n",
      "Training classifier...\n",
      "Testing...\n",
      "=================== Results ===================\n",
      "            Positive    Neutral     Negative   \n",
      "F1        [0.42622951 0.0952381  0.24       0.08695652 0.75303644]\n",
      "Precision [0.34210526 1.         0.375      0.10526316 0.69402985]\n",
      "Recall    [0.56521739 0.05       0.17647059 0.07407407 0.82300885]\n",
      "Mean Absolute Error: 0.86 degrees.\n",
      "RMSA    2.245\n"
     ]
    },
    {
     "data": {
      "text/plain": [
       "<matplotlib.axes._subplots.AxesSubplot at 0x7f5dfc2c3c18>"
      ]
     },
     "execution_count": 21,
     "metadata": {},
     "output_type": "execute_result"
    },
    {
     "data": {
      "image/png": "[encoded data removed]",
      "text/plain": [
       "<matplotlib.figure.Figure at 0x7f5d9eece0f0>"
      ]
     },
     "metadata": {
      "needs_background": "light"
     },
     "output_type": "display_data"
    }
   ],
   "source": [
    "RMSA = []\n",
    "for min_words in range(1,20):\n",
    "    rmsa,_ = experiment(min_words, sample=True, predict=False)\n",
    "    RMSA.append((min_words,rmsa))\n",
    "\n",
    "df = pd.DataFrame(RMSA, columns=['min_words', 'RMSA'])\n",
    "df.plot(kind='bar', x='min_words')"
   ]
  },
  {
   "cell_type": "markdown",
   "metadata": {},
   "source": [
    "#### 2.3.10 Create submission file"
   ]
  },
  {
   "cell_type": "code",
   "execution_count": 22,
   "metadata": {},
   "outputs": [
    {
     "name": "stdout",
     "output_type": "stream",
     "text": [
      "Training classifier...\n",
      "Testing...\n"
     ]
    }
   ],
   "source": [
    "predict = experiment(min_word_count=4,sample=False, predict=True)\n",
    "with open('data/submission.csv','w') as out:\n",
    "    csv_out=csv.writer(out)\n",
    "    csv_out.writerow(['Id','Rating'])\n",
    "    for row in predict:\n",
    "        csv_out.writerow(row)"
   ]
  },
  {
   "cell_type": "code",
   "execution_count": null,
   "metadata": {},
   "outputs": [],
   "source": []
  }
 ],
 "metadata": {
  "kernelspec": {
   "display_name": "Python 3",
   "language": "python",
   "name": "python3"
  },
  "language_info": {
   "codemirror_mode": {
    "name": "ipython",
    "version": 3
   },
   "file_extension": ".py",
   "mimetype": "text/x-python",
   "name": "python",
   "nbconvert_exporter": "python",
   "pygments_lexer": "ipython3",
   "version": "3.6.6"
  }
 },
 "nbformat": 4,
 "nbformat_minor": 2
}
